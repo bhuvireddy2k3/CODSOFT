{
  "nbformat": 4,
  "nbformat_minor": 0,
  "metadata": {
    "colab": {
      "provenance": []
    },
    "kernelspec": {
      "name": "python3",
      "display_name": "Python 3"
    },
    "language_info": {
      "name": "python"
    }
  },
  "cells": [
    {
      "cell_type": "markdown",
      "source": [
        "Building a model that predicts the rating of a movie based on\n",
        "features like genre, director, and actors.\n",
        "The goal is to analyze historical movie data and develop a model\n",
        "that accurately estimates the rating given to a movie by users or\n",
        "critics.\n",
        "Movie Rating Prediction project enables you to explore data\n",
        "analysis, preprocessing, feature engineering, and machine\n",
        "learning modeling techniques. It provides insights into the factors\n",
        "that influence movie ratings and allows you to build a model that\n",
        "can estimate the ratings of movies accurately."
      ],
      "metadata": {
        "id": "8sY-VJW0gQtQ"
      }
    },
    {
      "cell_type": "code",
      "source": [
        "#Import the libraries\n",
        "import pandas as pd\n",
        "import seaborn as sns\n",
        "import matplotlib.pyplot as plt\n",
        "\n",
        "from sklearn.model_selection import train_test_split\n",
        "from sklearn.linear_model import LinearRegression\n",
        "from sklearn.ensemble import RandomForestRegressor\n",
        "from sklearn.metrics import mean_absolute_error, mean_squared_error, r2_score"
      ],
      "metadata": {
        "id": "T3MAjac5dEki"
      },
      "execution_count": null,
      "outputs": []
    },
    {
      "cell_type": "code",
      "source": [
        "# Load the dataset\n",
        "df = pd.read_csv('/content/drive/MyDrive/IMDb Movies India.csv', encoding='latin-1')\n",
        "\n",
        "# Display the first few rows\n",
        "print(df.head())\n",
        "print(df.info())\n",
        "print(df.describe())"
      ],
      "metadata": {
        "colab": {
          "base_uri": "https://localhost:8080/"
        },
        "id": "4UslnZ_wdbXc",
        "outputId": "11e5e162-4304-46dd-90dd-e27cd13429a8"
      },
      "execution_count": null,
      "outputs": [
        {
          "output_type": "stream",
          "name": "stdout",
          "text": [
            "                                 Name    Year Duration            Genre  \\\n",
            "0                                         NaN      NaN            Drama   \n",
            "1  #Gadhvi (He thought he was Gandhi)  (2019)  109 min            Drama   \n",
            "2                         #Homecoming  (2021)   90 min   Drama, Musical   \n",
            "3                             #Yaaram  (2019)  110 min  Comedy, Romance   \n",
            "4                   ...And Once Again  (2010)  105 min            Drama   \n",
            "\n",
            "   Rating Votes            Director       Actor 1             Actor 2  \\\n",
            "0     NaN   NaN       J.S. Randhawa      Manmauji              Birbal   \n",
            "1     7.0     8       Gaurav Bakshi  Rasika Dugal      Vivek Ghamande   \n",
            "2     NaN   NaN  Soumyajit Majumdar  Sayani Gupta   Plabita Borthakur   \n",
            "3     4.4    35          Ovais Khan       Prateik          Ishita Raj   \n",
            "4     NaN   NaN        Amol Palekar  Rajat Kapoor  Rituparna Sengupta   \n",
            "\n",
            "           Actor 3  \n",
            "0  Rajendra Bhatia  \n",
            "1    Arvind Jangid  \n",
            "2       Roy Angana  \n",
            "3  Siddhant Kapoor  \n",
            "4      Antara Mali  \n",
            "<class 'pandas.core.frame.DataFrame'>\n",
            "RangeIndex: 15509 entries, 0 to 15508\n",
            "Data columns (total 10 columns):\n",
            " #   Column    Non-Null Count  Dtype  \n",
            "---  ------    --------------  -----  \n",
            " 0   Name      15509 non-null  object \n",
            " 1   Year      14981 non-null  object \n",
            " 2   Duration  7240 non-null   object \n",
            " 3   Genre     13632 non-null  object \n",
            " 4   Rating    7919 non-null   float64\n",
            " 5   Votes     7920 non-null   object \n",
            " 6   Director  14984 non-null  object \n",
            " 7   Actor 1   13892 non-null  object \n",
            " 8   Actor 2   13125 non-null  object \n",
            " 9   Actor 3   12365 non-null  object \n",
            "dtypes: float64(1), object(9)\n",
            "memory usage: 1.2+ MB\n",
            "None\n",
            "            Rating\n",
            "count  7919.000000\n",
            "mean      5.841621\n",
            "std       1.381777\n",
            "min       1.100000\n",
            "25%       4.900000\n",
            "50%       6.000000\n",
            "75%       6.800000\n",
            "max      10.000000\n"
          ]
        }
      ]
    },
    {
      "cell_type": "markdown",
      "source": [
        "Data Cleaning and Preprocessing"
      ],
      "metadata": {
        "id": "S5oYlhYodk8c"
      }
    },
    {
      "cell_type": "code",
      "source": [
        "# Handle missing values\n",
        "df = df.dropna()\n",
        "\n",
        "# Convert categorical features to numerical values using one-hot encoding\n",
        "df = pd.get_dummies(df, columns=['Genre', 'Director', 'Actor 1','Actor 2','Actor 3'])\n",
        "\n",
        "# Clean and convert 'Year' column to numeric\n",
        "df['Year'] = df['Year'].str.extract('(\\d+)').astype(float) # Extract numeric part and convert to float\n",
        "\n",
        "# Clean and convert 'Duration' column to numeric\n",
        "# Extract numeric part, handle non-numeric values, and convert to float\n",
        "df['Duration'] = pd.to_numeric(df['Duration'].str.extract('(\\d+)')[0], errors='coerce')\n",
        "df['Duration'] = df['Duration'].fillna(df['Duration'].mean()) # Fill missing values with the mean\n",
        "\n",
        "# Normalize numerical features if necessary\n",
        "from sklearn.preprocessing import StandardScaler\n",
        "scaler = StandardScaler()\n",
        "numerical_feature_column = 'Year'  # Example: Assuming 'Year' is the numerical feature\n",
        "df[numerical_feature_column] = scaler.fit_transform(df[[numerical_feature_column]])"
      ],
      "metadata": {
        "id": "wlpz8Gs3dfzM"
      },
      "execution_count": null,
      "outputs": []
    },
    {
      "cell_type": "code",
      "source": [
        "# Identify and handle non-numeric values in the DataFrame\n",
        "for column in df.columns:\n",
        "    if df[column].dtype == 'object':\n",
        "        # Check if the column contains any non-numeric values\n",
        "        non_numeric = df[column][pd.to_numeric(df[column], errors='coerce').isna()]\n",
        "        if not non_numeric.empty:\n",
        "            print(f\"Non-numeric values found in column '{column}':\")\n",
        "            print(non_numeric)\n",
        "            # Handle non-numeric values by replacing them with a placeholder (e.g., 0)\n",
        "            df[column] = pd.to_numeric(df[column], errors='coerce').fillna(0) # Replace non-numeric with 0"
      ],
      "metadata": {
        "colab": {
          "base_uri": "https://localhost:8080/"
        },
        "id": "X9ptF8CtdzUS",
        "outputId": "34aeaad5-1f27-4e6e-d11c-9226405da40d"
      },
      "execution_count": null,
      "outputs": [
        {
          "output_type": "stream",
          "name": "stdout",
          "text": [
            "Non-numeric values found in column 'Name':\n",
            "1        #Gadhvi (He thought he was Gandhi)\n",
            "3                                   #Yaaram\n",
            "5                      ...Aur Pyaar Ho Gaya\n",
            "6                                 ...Yahaan\n",
            "8                        ?: A Question Mark\n",
            "                        ...                \n",
            "15493                                Zubaan\n",
            "15494                              Zubeidaa\n",
            "15503                       Zulm Ki Zanjeer\n",
            "15505                                 Zulmi\n",
            "15508                          Zulm-O-Sitam\n",
            "Name: Name, Length: 5652, dtype: object\n",
            "Non-numeric values found in column 'Votes':\n",
            "6         1,086\n",
            "15        6,619\n",
            "28        6,329\n",
            "30        1,002\n",
            "33        1,235\n",
            "          ...  \n",
            "15437     1,551\n",
            "15440     1,301\n",
            "15447     3,314\n",
            "15476    70,344\n",
            "15494     1,496\n",
            "Name: Votes, Length: 1368, dtype: object\n"
          ]
        }
      ]
    },
    {
      "cell_type": "markdown",
      "source": [
        "Exploratory Data Analysis (EDA)"
      ],
      "metadata": {
        "id": "RMrbCjXFd5Ud"
      }
    },
    {
      "cell_type": "code",
      "source": [
        "# Distribution of ratings\n",
        "sns.histplot(df['Rating'], bins=10)\n",
        "plt.show()"
      ],
      "metadata": {
        "colab": {
          "base_uri": "https://localhost:8080/",
          "height": 449
        },
        "id": "lEdecAv7d40B",
        "outputId": "a3fcdeab-6919-45ad-da61-0862646a37d5"
      },
      "execution_count": null,
      "outputs": [
        {
          "output_type": "display_data",
          "data": {
            "text/plain": [
              "<Figure size 640x480 with 1 Axes>"
            ],
            "image/png": "[encoded data removed]"
          },
          "metadata": {}
        }
      ]
    },
    {
      "cell_type": "code",
      "source": [
        "# Relationship between features and ratings\n",
        "sns.boxplot(x='Genre_Action', y='Rating', data=df)\n",
        "plt.show()"
      ],
      "metadata": {
        "colab": {
          "base_uri": "https://localhost:8080/",
          "height": 450
        },
        "id": "sR6MtWKeeFHf",
        "outputId": "66b736d6-9b7a-46d4-d115-a00a1d19fc1d"
      },
      "execution_count": null,
      "outputs": [
        {
          "output_type": "display_data",
          "data": {
            "text/plain": [
              "<Figure size 640x480 with 1 Axes>"
            ],
            "image/png": "[encoded data removed]"
          },
          "metadata": {}
        }
      ]
    },
    {
      "cell_type": "markdown",
      "source": [
        " Feature Engineering"
      ],
      "metadata": {
        "id": "X151yTKEeYl0"
      }
    },
    {
      "cell_type": "code",
      "source": [
        "# Example: Creating a new feature based on existing ones\n",
        "df['feature_interaction'] = df['Year'] * df['Duration']"
      ],
      "metadata": {
        "id": "CBeeD4kseZMZ"
      },
      "execution_count": null,
      "outputs": []
    },
    {
      "cell_type": "markdown",
      "source": [
        " Model Building"
      ],
      "metadata": {
        "id": "-shuiUd3ek9p"
      }
    },
    {
      "cell_type": "code",
      "source": [
        "# Split data into training and testing sets\n",
        "X = df.drop('Rating', axis=1)\n",
        "y = df['Rating']\n",
        "X_train, X_test, y_train, y_test = train_test_split(X, y, test_size=0.2, random_state=42)\n",
        "\n",
        "# Train a regression model\n",
        "model = RandomForestRegressor()\n",
        "model.fit(X_train, y_train)"
      ],
      "metadata": {
        "colab": {
          "base_uri": "https://localhost:8080/",
          "height": 74
        },
        "id": "Re_31LU7elq1",
        "outputId": "a28abca6-744b-4df5-981d-02a5b0b91e8b"
      },
      "execution_count": null,
      "outputs": [
        {
          "output_type": "execute_result",
          "data": {
            "text/plain": [
              "RandomForestRegressor()"
            ],
            "text/html": [
              "<style>#sk-container-id-1 {color: black;background-color: white;}#sk-container-id-1 pre{padding: 0;}#sk-container-id-1 div.sk-toggleable {background-color: white;}#sk-container-id-1 label.sk-toggleable__label {cursor: pointer;display: block;width: 100%;margin-bottom: 0;padding: 0.3em;box-sizing: border-box;text-align: center;}#sk-container-id-1 label.sk-toggleable__label-arrow:before {content: \"▸\";float: left;margin-right: 0.25em;color: #696969;}#sk-container-id-1 label.sk-toggleable__label-arrow:hover:before {color: black;}#sk-container-id-1 div.sk-estimator:hover label.sk-toggleable__label-arrow:before {color: black;}#sk-container-id-1 div.sk-toggleable__content {max-height: 0;max-width: 0;overflow: hidden;text-align: left;background-color: #f0f8ff;}#sk-container-id-1 div.sk-toggleable__content pre {margin: 0.2em;color: black;border-radius: 0.25em;background-color: #f0f8ff;}#sk-container-id-1 input.sk-toggleable__control:checked~div.sk-toggleable__content {max-height: 200px;max-width: 100%;overflow: auto;}#sk-container-id-1 input.sk-toggleable__control:checked~label.sk-toggleable__label-arrow:before {content: \"▾\";}#sk-container-id-1 div.sk-estimator input.sk-toggleable__control:checked~label.sk-toggleable__label {background-color: #d4ebff;}#sk-container-id-1 div.sk-label input.sk-toggleable__control:checked~label.sk-toggleable__label {background-color: #d4ebff;}#sk-container-id-1 input.sk-hidden--visually {border: 0;clip: rect(1px 1px 1px 1px);clip: rect(1px, 1px, 1px, 1px);height: 1px;margin: -1px;overflow: hidden;padding: 0;position: absolute;width: 1px;}#sk-container-id-1 div.sk-estimator {font-family: monospace;background-color: #f0f8ff;border: 1px dotted black;border-radius: 0.25em;box-sizing: border-box;margin-bottom: 0.5em;}#sk-container-id-1 div.sk-estimator:hover {background-color: #d4ebff;}#sk-container-id-1 div.sk-parallel-item::after {content: \"\";width: 100%;border-bottom: 1px solid gray;flex-grow: 1;}#sk-container-id-1 div.sk-label:hover label.sk-toggleable__label {background-color: #d4ebff;}#sk-container-id-1 div.sk-serial::before {content: \"\";position: absolute;border-left: 1px solid gray;box-sizing: border-box;top: 0;bottom: 0;left: 50%;z-index: 0;}#sk-container-id-1 div.sk-serial {display: flex;flex-direction: column;align-items: center;background-color: white;padding-right: 0.2em;padding-left: 0.2em;position: relative;}#sk-container-id-1 div.sk-item {position: relative;z-index: 1;}#sk-container-id-1 div.sk-parallel {display: flex;align-items: stretch;justify-content: center;background-color: white;position: relative;}#sk-container-id-1 div.sk-item::before, #sk-container-id-1 div.sk-parallel-item::before {content: \"\";position: absolute;border-left: 1px solid gray;box-sizing: border-box;top: 0;bottom: 0;left: 50%;z-index: -1;}#sk-container-id-1 div.sk-parallel-item {display: flex;flex-direction: column;z-index: 1;position: relative;background-color: white;}#sk-container-id-1 div.sk-parallel-item:first-child::after {align-self: flex-end;width: 50%;}#sk-container-id-1 div.sk-parallel-item:last-child::after {align-self: flex-start;width: 50%;}#sk-container-id-1 div.sk-parallel-item:only-child::after {width: 0;}#sk-container-id-1 div.sk-dashed-wrapped {border: 1px dashed gray;margin: 0 0.4em 0.5em 0.4em;box-sizing: border-box;padding-bottom: 0.4em;background-color: white;}#sk-container-id-1 div.sk-label label {font-family: monospace;font-weight: bold;display: inline-block;line-height: 1.2em;}#sk-container-id-1 div.sk-label-container {text-align: center;}#sk-container-id-1 div.sk-container {/* jupyter's `normalize.less` sets `[hidden] { display: none; }` but bootstrap.min.css set `[hidden] { display: none !important; }` so we also need the `!important` here to be able to override the default hidden behavior on the sphinx rendered scikit-learn.org. See: https://github.com/scikit-learn/scikit-learn/issues/21755 */display: inline-block !important;position: relative;}#sk-container-id-1 div.sk-text-repr-fallback {display: none;}</style><div id=\"sk-container-id-1\" class=\"sk-top-container\"><div class=\"sk-text-repr-fallback\"><pre>RandomForestRegressor()</pre><b>In a Jupyter environment, please rerun this cell to show the HTML representation or trust the notebook. <br />On GitHub, the HTML representation is unable to render, please try loading this page with nbviewer.org.</b></div><div class=\"sk-container\" hidden><div class=\"sk-item\"><div class=\"sk-estimator sk-toggleable\"><input class=\"sk-toggleable__control sk-hidden--visually\" id=\"sk-estimator-id-1\" type=\"checkbox\" checked><label for=\"sk-estimator-id-1\" class=\"sk-toggleable__label sk-toggleable__label-arrow\">RandomForestRegressor</label><div class=\"sk-toggleable__content\"><pre>RandomForestRegressor()</pre></div></div></div></div></div>"
            ]
          },
          "metadata": {},
          "execution_count": 26
        }
      ]
    },
    {
      "cell_type": "markdown",
      "source": [
        "Model Evaluation"
      ],
      "metadata": {
        "id": "e8aiyPTvetfW"
      }
    },
    {
      "cell_type": "code",
      "source": [
        "# Predict on the test set\n",
        "y_pred = model.predict(X_test)\n",
        "\n",
        "# Evaluate the model\n",
        "mae = mean_absolute_error(y_test, y_pred)\n",
        "mse = mean_squared_error(y_test, y_pred)\n",
        "r2 = r2_score(y_test, y_pred)\n",
        "\n",
        "print(f'MAE: {mae}')\n",
        "print(f'MSE: {mse}')\n",
        "print(f'R-squared: {r2}')"
      ],
      "metadata": {
        "colab": {
          "base_uri": "https://localhost:8080/"
        },
        "id": "yb0qsdudewOk",
        "outputId": "06941f06-030d-4b40-ba96-75c4ce790ef3"
      },
      "execution_count": null,
      "outputs": [
        {
          "output_type": "stream",
          "name": "stdout",
          "text": [
            "MAE: 0.8564302120141343\n",
            "MSE: 1.3129603295053005\n",
            "R-squared: 0.2909599920872151\n"
          ]
        }
      ]
    }
  ]
}